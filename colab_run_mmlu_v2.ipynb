{
 "cells": [
  {
   "cell_type": "markdown",
   "metadata": {},
   "source": [
    "# PackLLM – MMLU Fusion (Colab)\n",
    "This Colab notebook installs dependencies with compatible pinning, clones the repo, and runs the *opt*‐fusion experiment on the MMLU `abstract_algebra` subject using `NousResearch/Llama-2-7b-hf` and three peer 7-B models. Adjust the `SUBJECTS` list to run more subjects." ]
  },
  {
   "cell_type": "code",
   "execution_count": null,
   "metadata": {"id": "install"},
   "outputs": [],
   "source": [
    "# ⚙️ Install library stack (quiet) with known-good versions\n",
    "!pip -q install transformers==4.41.1 accelerate datasets evaluate scikit-learn sentencepiece \\\n    fsspec==2023.6.0 gcsfs==2023.6.0 --upgrade"
   ]
  },
  {
   "cell_type": "code",
   "execution_count": null,
   "metadata": {"id": "clone"},
   "outputs": [],
   "source": [
    "# 📦 Clone repo\n",
    "!git clone -q https://github.com/tenet-diver/ppack_of_llamas.git\n",
    "%cd ppack_of_llamas"
   ]
  },
  {
   "cell_type": "code",
   "execution_count": null,
   "metadata": {"id": "install-reqs"},
   "outputs": [],
   "source": [
    "# 🔧 Install repo requirements (these already include matching fsspec/gcsfs pins)\n",
    "!pip -q install -r downstream_tasks/requirements.txt"
   ]
  },
  {
   "cell_type": "code",
   "execution_count": null,
   "metadata": {"id": "run"},
   "outputs": [],
   "source": [
    "import subprocess, os, textwrap\n",
    "SUBJECTS = ['abstract_algebra']  # ← add more subjects here\n",
    "MODEL_NAMES = ','.join(['NousResearch/Llama-2-7b-hf',\n    'mistralai/Mistral-7B-v0.1',\n    'microsoft/phi-2',\n    'Deci/DeciLM-7B'])\n",
    "for subj in SUBJECTS:\n",
    "    cmd = textwrap.dedent(f'''\\\n        python downstream_tasks/main.py \\n          --task_name mmlu \\n          --subj {subj} \\n          --fusion opt \\n          --model_name \"{MODEL_NAMES}\" \\n          --few_shot 0 \\n          --data_cache_dir datasets \\n          --output_dir outputs/fusion_opt_mmlu/{subj} \\n          --annotation_size 5 \\n          --seed 1\\\n    ''')\n",
    "    print(cmd)\n",
    "    subprocess.run(cmd, shell=True, check=True)"
   ]
  },
  {
   "cell_type": "code",
   "execution_count": null,
   "metadata": {"id": "results"},
   "outputs": [],
   "source": [
    "# 📊 Gather JSON metrics produced (if any)\n",
    "import glob, json, pandas as pd, pathlib\n",
    "files = glob.glob('outputs/fusion_opt_mmlu/**/*.json', recursive=True)\n",
    "if files:\n",
    "    rows = []\n",
    "    for fp in files:\n",
    "        with open(fp) as f:\n",
    "            rows.append({'file': pathlib.Path(fp).name, **json.load(f)})\n",
    "    pd.set_option('display.max_rows', None)\n",
    "    display(pd.DataFrame(rows))\n",
    "else:\n",
    "    print('No JSON results yet.')"
   ]
  }
 ],
 "metadata": {
  "colab": {"provenance": []},
  "kernelspec": {"display_name": "Python 3", "name": "python3"},
  "language_info": {"name": "python", "version": "3.10"}
 },
 "nbformat": 4,
 "nbformat_minor": 5
}
